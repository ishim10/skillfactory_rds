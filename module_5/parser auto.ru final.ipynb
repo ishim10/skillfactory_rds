{
 "cells": [
  {
   "cell_type": "code",
   "execution_count": 1,
   "metadata": {},
   "outputs": [],
   "source": [
    "import numpy as np \n",
    "import pandas as pd \n",
    "import requests\n",
    "import time\n",
    "from typing import Dict, List\n",
    "from bs4 import BeautifulSoup\n",
    "from lxml import html\n",
    "import urllib.request\n",
    "from fake_headers import Headers\n",
    "from pprint import pprint  \n",
    "import re\n",
    "from urlextract import URLExtract\n",
    "import csv"
   ]
  },
  {
   "cell_type": "code",
   "execution_count": null,
   "metadata": {},
   "outputs": [],
   "source": [
    "a = 1\n",
    "chars = []\n",
    "list_auto_ru = []\n",
    "list_page_url = ['https://auto.ru/moskovskaya_oblast/cars/all/?page=', 'https://auto.ru/sankt-peterburg/cars/all/?page=',\n",
    "                 'https://auto.ru/vladimir/cars/all/?page=',\n",
    "                 'https://auto.ru/volgograd/cars/all/?page=', 'https://auto.ru/ivanovo/cars/all/?page=',\n",
    "                 'https://auto.ru/kaluga/cars/all/?page=', 'https://auto.ru/kostroma/cars/all/?page=',\n",
    "                 'https://auto.ru/nizhniy_novgorod/cars/all/?page=', 'https://auto.ru/tver/cars/all/?page=',\n",
    "                 'https://auto.ru/tula/cars/all/?page=', 'https://auto.ru/yaroslavl/cars/all/?page=',\n",
    "                 'https://auto.ru/ekaterinburg/cars/all/?page=', 'https://auto.ru/voronezh/cars/all/?page=', 'https://auto.ru/kazan/cars/all/?page=',\n",
    "                 'https://auto.ru/krasnodar/cars/all/?page=', 'https://auto.ru/krasnoyarsk/cars/all/?page=', 'https://auto.ru/novosibirsk/cars/all/?page=',\n",
    "                 'https://auto.ru/omsk/cars/all/?page=', 'https://auto.ru/perm/cars/all/?page=', 'https://auto.ru/rostov-na-donu/cars/all/?page=',\n",
    "                 'https://auto.ru/samara/cars/all/?page=', 'https://auto.ru/saratov/cars/all/?page=', 'https://auto.ru/ufa/cars/all/?page=',\n",
    "                 'https://auto.ru/chelyabinsk/cars/all/?page=']\n",
    "for u in list_page_url:  # Идем по списку url\n",
    "    for a in range(99):  # Идем по страницам и собираем url на конкретные объявления\n",
    "        headers = {}\n",
    "        links = []\n",
    "        headers = Headers(browser='chrome', os='win', headers=True).generate()\n",
    "        page_url = u + str(a)\n",
    "        response = requests.get(page_url)\n",
    "        page = BeautifulSoup(response.text, 'html.parser')\n",
    "        links = page.find_all('a', class_='Link ListingItemTitle__link')\n",
    "        i = 0\n",
    "        for i in range(len(links)):  # Идем по объявлениям и собираем информацию\n",
    "            urls = []\n",
    "            extractor = URLExtract()\n",
    "            urls = extractor.find_urls(str(links[i]))\n",
    "            try:\n",
    "                response = urllib.request.urlopen(urls[0])\n",
    "            except urllib.error.HTTPError as exception:  # Обходим исключения\n",
    "                print(exception)\n",
    "                time.sleep(60)\n",
    "                continue\n",
    "            html_soup = BeautifulSoup(response.read(), 'html.parser')\n",
    "            chars1 = html_soup.find_all('span', class_='CardInfoRow__cell')\n",
    "            chars2 = html_soup.find_all(\n",
    "                'span', class_='OfferPriceCaption__price')\n",
    "            with open('Save_auto.txt', 'a', encoding='UTF-8') as file:  # Записываем данные в файл\n",
    "                file.write(str(chars1))\n",
    "                file.write(str(chars2))\n",
    "            list_auto_ru.append(chars1)\n",
    "            list_auto_ru.append(chars2)\n",
    "print('Successfully')"
   ]
  },
  {
   "cell_type": "code",
   "execution_count": null,
   "metadata": {},
   "outputs": [],
   "source": []
  }
 ],
 "metadata": {
  "kernelspec": {
   "display_name": "Python 3",
   "language": "python",
   "name": "python3"
  },
  "language_info": {
   "codemirror_mode": {
    "name": "ipython",
    "version": 3
   },
   "file_extension": ".py",
   "mimetype": "text/x-python",
   "name": "python",
   "nbconvert_exporter": "python",
   "pygments_lexer": "ipython3",
   "version": "3.8.5"
  }
 },
 "nbformat": 4,
 "nbformat_minor": 4
}
